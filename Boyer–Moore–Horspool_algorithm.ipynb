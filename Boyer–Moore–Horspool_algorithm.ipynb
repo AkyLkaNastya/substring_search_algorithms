{
 "cells": [
  {
   "cell_type": "code",
   "execution_count": null,
   "id": "06524d8b",
   "metadata": {},
   "outputs": [],
   "source": [
    "import pandas as pd"
   ]
  },
  {
   "cell_type": "markdown",
   "id": "ae031d6b",
   "metadata": {},
   "source": [
    "Чтение файла"
   ]
  },
  {
   "cell_type": "code",
   "execution_count": null,
   "id": "a78665cb",
   "metadata": {},
   "outputs": [],
   "source": [
    "def create_string(file_path):\n",
    "    f = open(file_path, 'r', encoding='utf-8')\n",
    "    text = f.read()\n",
    "    return text"
   ]
  },
  {
   "cell_type": "markdown",
   "id": "2e4cdc67",
   "metadata": {},
   "source": [
    "Строка в DataFrame посимвольно"
   ]
  },
  {
   "cell_type": "code",
   "execution_count": 155,
   "id": "6d02d480",
   "metadata": {},
   "outputs": [],
   "source": [
    "def create_char_dataframe(pattern):\n",
    "    chars = list(pattern)  \n",
    "    df = pd.DataFrame({'symb': chars})\n",
    "    df = df[::-1].reset_index(drop=True)\n",
    "    return df"
   ]
  },
  {
   "cell_type": "markdown",
   "id": "571b1d3f",
   "metadata": {},
   "source": [
    "Просто читаем файл с паттерном. Делаем строку, которую будем проверять и DataFrame для удобства присваивания значений"
   ]
  },
  {
   "cell_type": "code",
   "execution_count": 180,
   "id": "de063f56",
   "metadata": {},
   "outputs": [
    {
     "data": {
      "text/html": [
       "<div>\n",
       "<style scoped>\n",
       "    .dataframe tbody tr th:only-of-type {\n",
       "        vertical-align: middle;\n",
       "    }\n",
       "\n",
       "    .dataframe tbody tr th {\n",
       "        vertical-align: top;\n",
       "    }\n",
       "\n",
       "    .dataframe thead th {\n",
       "        text-align: right;\n",
       "    }\n",
       "</style>\n",
       "<table border=\"1\" class=\"dataframe\">\n",
       "  <thead>\n",
       "    <tr style=\"text-align: right;\">\n",
       "      <th></th>\n",
       "      <th>symb</th>\n",
       "    </tr>\n",
       "  </thead>\n",
       "  <tbody>\n",
       "    <tr>\n",
       "      <th>0</th>\n",
       "      <td>а</td>\n",
       "    </tr>\n",
       "    <tr>\n",
       "      <th>1</th>\n",
       "      <td>в</td>\n",
       "    </tr>\n",
       "    <tr>\n",
       "      <th>2</th>\n",
       "      <td>д</td>\n",
       "    </tr>\n",
       "    <tr>\n",
       "      <th>3</th>\n",
       "      <td></td>\n",
       "    </tr>\n",
       "    <tr>\n",
       "      <th>4</th>\n",
       "      <td>и</td>\n",
       "    </tr>\n",
       "    <tr>\n",
       "      <th>...</th>\n",
       "      <td>...</td>\n",
       "    </tr>\n",
       "    <tr>\n",
       "      <th>87</th>\n",
       "      <td>л</td>\n",
       "    </tr>\n",
       "    <tr>\n",
       "      <th>88</th>\n",
       "      <td>ы</td>\n",
       "    </tr>\n",
       "    <tr>\n",
       "      <th>89</th>\n",
       "      <td>т</td>\n",
       "    </tr>\n",
       "    <tr>\n",
       "      <th>90</th>\n",
       "      <td>у</td>\n",
       "    </tr>\n",
       "    <tr>\n",
       "      <th>91</th>\n",
       "      <td>Б</td>\n",
       "    </tr>\n",
       "  </tbody>\n",
       "</table>\n",
       "<p>92 rows × 1 columns</p>\n",
       "</div>"
      ],
      "text/plain": [
       "   symb\n",
       "0     а\n",
       "1     в\n",
       "2     д\n",
       "3      \n",
       "4     и\n",
       "..  ...\n",
       "87    л\n",
       "88    ы\n",
       "89    т\n",
       "90    у\n",
       "91    Б\n",
       "\n",
       "[92 rows x 1 columns]"
      ]
     },
     "execution_count": 180,
     "metadata": {},
     "output_type": "execute_result"
    }
   ],
   "source": [
    "pattern_path = 'benchmarks/good_w_4.txt'\n",
    "\n",
    "pattern = create_string(pattern_path)\n",
    "df = create_char_dataframe(pattern)\n",
    "\n",
    "df"
   ]
  },
  {
   "cell_type": "markdown",
   "id": "c0184deb",
   "metadata": {},
   "source": [
    "Присваиваем значения каждому символу"
   ]
  },
  {
   "cell_type": "code",
   "execution_count": null,
   "id": "28aaf17e",
   "metadata": {},
   "outputs": [
    {
     "data": {
      "text/html": [
       "<div>\n",
       "<style scoped>\n",
       "    .dataframe tbody tr th:only-of-type {\n",
       "        vertical-align: middle;\n",
       "    }\n",
       "\n",
       "    .dataframe tbody tr th {\n",
       "        vertical-align: top;\n",
       "    }\n",
       "\n",
       "    .dataframe thead th {\n",
       "        text-align: right;\n",
       "    }\n",
       "</style>\n",
       "<table border=\"1\" class=\"dataframe\">\n",
       "  <thead>\n",
       "    <tr style=\"text-align: right;\">\n",
       "      <th></th>\n",
       "      <th>symb</th>\n",
       "      <th>num</th>\n",
       "    </tr>\n",
       "  </thead>\n",
       "  <tbody>\n",
       "    <tr>\n",
       "      <th>0</th>\n",
       "      <td>а</td>\n",
       "      <td>6.0</td>\n",
       "    </tr>\n",
       "    <tr>\n",
       "      <th>1</th>\n",
       "      <td>в</td>\n",
       "      <td>1.0</td>\n",
       "    </tr>\n",
       "    <tr>\n",
       "      <th>2</th>\n",
       "      <td>д</td>\n",
       "      <td>2.0</td>\n",
       "    </tr>\n",
       "    <tr>\n",
       "      <th>3</th>\n",
       "      <td></td>\n",
       "      <td>3.0</td>\n",
       "    </tr>\n",
       "    <tr>\n",
       "      <th>4</th>\n",
       "      <td>и</td>\n",
       "      <td>4.0</td>\n",
       "    </tr>\n",
       "    <tr>\n",
       "      <th>...</th>\n",
       "      <td>...</td>\n",
       "      <td>...</td>\n",
       "    </tr>\n",
       "    <tr>\n",
       "      <th>87</th>\n",
       "      <td>л</td>\n",
       "      <td>5.0</td>\n",
       "    </tr>\n",
       "    <tr>\n",
       "      <th>88</th>\n",
       "      <td>ы</td>\n",
       "      <td>8.0</td>\n",
       "    </tr>\n",
       "    <tr>\n",
       "      <th>89</th>\n",
       "      <td>т</td>\n",
       "      <td>24.0</td>\n",
       "    </tr>\n",
       "    <tr>\n",
       "      <th>90</th>\n",
       "      <td>у</td>\n",
       "      <td>31.0</td>\n",
       "    </tr>\n",
       "    <tr>\n",
       "      <th>91</th>\n",
       "      <td>Б</td>\n",
       "      <td>91.0</td>\n",
       "    </tr>\n",
       "  </tbody>\n",
       "</table>\n",
       "<p>92 rows × 2 columns</p>\n",
       "</div>"
      ],
      "text/plain": [
       "   symb   num\n",
       "0     а   6.0\n",
       "1     в   1.0\n",
       "2     д   2.0\n",
       "3         3.0\n",
       "4     и   4.0\n",
       "..  ...   ...\n",
       "87    л   5.0\n",
       "88    ы   8.0\n",
       "89    т  24.0\n",
       "90    у  31.0\n",
       "91    Б  91.0\n",
       "\n",
       "[92 rows x 2 columns]"
      ]
     },
     "execution_count": 181,
     "metadata": {},
     "output_type": "execute_result"
    }
   ],
   "source": [
    "char_min_numbers = {}\n",
    "    \n",
    "for i in range(1, df.shape[0]):\n",
    "    current_char = df.at[i, 'symb']\n",
    "    \n",
    "    if current_char in char_min_numbers:\n",
    "        df.at[i, 'num'] = char_min_numbers[current_char]\n",
    "    else:\n",
    "        new_number = i\n",
    "        df.at[i, 'num'] = new_number\n",
    "        char_min_numbers[current_char] = new_number\n",
    "        \n",
    "first_char = df.at[0, 'symb']\n",
    "char_count = df['symb'].value_counts()[first_char]\n",
    "\n",
    "if char_count == 1:\n",
    "    df.at[0, 'num'] = len(df)\n",
    "else:\n",
    "    df.at[0, 'num'] = char_min_numbers.get(first_char, 1)\n",
    "\n",
    "df"
   ]
  },
  {
   "cell_type": "markdown",
   "id": "7cb41df2",
   "metadata": {},
   "source": [
    "Превращаем в словарь для быстрого поиска"
   ]
  },
  {
   "cell_type": "code",
   "execution_count": null,
   "id": "0b66902f",
   "metadata": {},
   "outputs": [
    {
     "data": {
      "text/plain": [
       "{'а': 6.0,\n",
       " 'в': 1.0,\n",
       " 'д': 2.0,\n",
       " ' ': 3.0,\n",
       " 'и': 4.0,\n",
       " 'л': 5.0,\n",
       " 'ы': 8.0,\n",
       " 'м': 9.0,\n",
       " ',': 15.0,\n",
       " 'н': 17.0,\n",
       " 'к': 18.0,\n",
       " 'о': 19.0,\n",
       " 'с': 21.0,\n",
       " 'т': 24.0,\n",
       " 'й': 27.0,\n",
       " 'ж': 30.0,\n",
       " 'у': 31.0,\n",
       " 'р': 32.0,\n",
       " 'ь': 39.0,\n",
       " 'е': 42.0,\n",
       " 'ю': 45.0,\n",
       " 'ш': 47.0,\n",
       " 'п': 53.0,\n",
       " ';': 64.0,\n",
       " 'б': 78.0,\n",
       " 'Б': 91.0}"
      ]
     },
     "execution_count": 182,
     "metadata": {},
     "output_type": "execute_result"
    }
   ],
   "source": [
    "df = df.drop_duplicates()\n",
    "symbol_value_dict = dict(zip(df['symb'], df['num']))"
   ]
  },
  {
   "cell_type": "markdown",
   "id": "0393c3a1",
   "metadata": {},
   "source": [
    "Читаем файл с текстом, в котором будем искать"
   ]
  },
  {
   "cell_type": "code",
   "execution_count": 186,
   "id": "7bebbe10",
   "metadata": {},
   "outputs": [],
   "source": [
    "text_path = 'benchmarks/good_t_4.txt'\n",
    "text = create_string(text_path)"
   ]
  },
  {
   "cell_type": "code",
   "execution_count": 187,
   "id": "ba68d499",
   "metadata": {},
   "outputs": [],
   "source": [
    "def find_pattern_in_text(pattern, text):\n",
    "    pattern_len = len(pattern)\n",
    "\n",
    "    for i in range(pattern_len, len(text)):\n",
    "        j = pattern_len - 1\n",
    "\n",
    "        while (text[i] == pattern[j]) and (j >= 0):\n",
    "            i-=1\n",
    "            j-=1\n",
    "\n",
    "        if j == -1:\n",
    "            res = f'Первое вхождение подстроки: {i+1}'\n",
    "            return res\n",
    "        elif i in symbol_value_dict:\n",
    "            num = symbol_value_dict[i]\n",
    "            i += num\n",
    "        else:\n",
    "            i+=pattern_len\n",
    "\n",
    "    res = 'Подстрока не найдена'\n",
    "    return\n"
   ]
  },
  {
   "cell_type": "code",
   "execution_count": 188,
   "id": "e3f4640f",
   "metadata": {},
   "outputs": [
    {
     "name": "stdout",
     "output_type": "stream",
     "text": [
      "Первое вхождение подстроки: 9522\n"
     ]
    }
   ],
   "source": [
    "print(find_pattern_in_text(pattern, text))"
   ]
  }
 ],
 "metadata": {
  "kernelspec": {
   "display_name": "Python 3",
   "language": "python",
   "name": "python3"
  },
  "language_info": {
   "codemirror_mode": {
    "name": "ipython",
    "version": 3
   },
   "file_extension": ".py",
   "mimetype": "text/x-python",
   "name": "python",
   "nbconvert_exporter": "python",
   "pygments_lexer": "ipython3",
   "version": "3.10.11"
  }
 },
 "nbformat": 4,
 "nbformat_minor": 5
}
